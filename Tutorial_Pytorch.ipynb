{
  "nbformat": 4,
  "nbformat_minor": 0,
  "metadata": {
    "colab": {
      "provenance": []
    },
    "kernelspec": {
      "name": "python3",
      "display_name": "Python 3"
    }
  },
  "cells": [
    {
      "cell_type": "markdown",
      "metadata": {
        "id": "aNMNkmJ0yZ9z"
      },
      "source": [
        "# Mini-tutorial de Pytorch\n",
        "[Pytorch](https://pytorch.org/) es un framework para implementar modelos de Deep Learning. La documentación oficial de este framework puede ser encontrada [aquí](https://pytorch.org/docs/stable/index.html).\n",
        "\n",
        "Todo el funcionamiento de Pytorch se basa en Tensores, que es la forma cómo Pytorch manipula la información cuando uno programa modelos de Deep Learning. Un tensor es básicamente una generalización del concepto de un array."
      ]
    },
    {
      "cell_type": "code",
      "metadata": {
        "id": "DeJG2s7skjbr"
      },
      "source": [
        "#El paquete Pytorch se importa de manera sencilla así:\n",
        "\n",
        "import torch"
      ],
      "execution_count": 1,
      "outputs": []
    },
    {
      "cell_type": "code",
      "metadata": {
        "id": "Xig8Ro0XnbXz"
      },
      "source": [
        "# Pytorch provee distintos tipos de tensores que pueden ser usados. \n",
        "#Con la siguiente línea aparecerá la lista de tensores dispoibles en este \n",
        "#framework\n",
        "\n",
        "torch.*Tensor?\n",
        "\n",
        "#Los distintos tipos de tensores hacen referencia al tipo de dato \n",
        "#primitivo que pueden manejar. Por ejemplo, el BoolTensor será un \n",
        "#array de booleanos, mientras que el FloatTensor será para un array de floats."
      ],
      "execution_count": 2,
      "outputs": []
    },
    {
      "cell_type": "code",
      "metadata": {
        "id": "gPSY1BtZnoa0",
        "colab": {
          "base_uri": "https://localhost:8080/"
        },
        "outputId": "4119ee38-db87-4e9e-d8c7-58048df2a50f"
      },
      "source": [
        "# La clase Module de Pytorch provee una clase abstracta para cualquier modelo de \n",
        "# red neuronal en este framework. Cuando uno crea una red neuronal propia,\n",
        "# siempre debe heredar de esta clase Module.\n",
        "\n",
        "torch.nn.Module() #Basic module"
      ],
      "execution_count": 3,
      "outputs": [
        {
          "output_type": "execute_result",
          "data": {
            "text/plain": [
              "Module()"
            ]
          },
          "metadata": {},
          "execution_count": 3
        }
      ]
    },
    {
      "cell_type": "code",
      "metadata": {
        "id": "xRBa16shpjqW"
      },
      "source": [
        "#Con esta línea verás la documentación de la clase Module\n",
        "torch.nn.Module?"
      ],
      "execution_count": 4,
      "outputs": []
    },
    {
      "cell_type": "code",
      "metadata": {
        "id": "U2YgjDaWpwnu"
      },
      "source": [
        "#Esta es otra forma de ver la documentación de la clase Module\n",
        "torch.nn.Module??"
      ],
      "execution_count": 5,
      "outputs": []
    },
    {
      "cell_type": "code",
      "metadata": {
        "id": "5wkR8vsCqXix",
        "colab": {
          "base_uri": "https://localhost:8080/"
        },
        "outputId": "78e405d3-5e26-4ceb-c890-8e718244c9aa"
      },
      "source": [
        "#Se puede crear un tensor fácilmente usando la clase Tensor. Recibe como \n",
        "# parámetros las distintas dimensiones del Tensor.\n",
        "\n",
        "#En este ejemplo, creamos un tensor de 3 dimensiones, en donde la primera dimensión\n",
        "# tiene tamaño 2, la segunda dimensión tiene tamaño 3 y la tercera dimensión tiene \n",
        "# tamaño 4\n",
        "\n",
        "t = torch.Tensor(2, 3, 4) #Create a tensor\n",
        "type(t)"
      ],
      "execution_count": 6,
      "outputs": [
        {
          "output_type": "execute_result",
          "data": {
            "text/plain": [
              "torch.Tensor"
            ]
          },
          "metadata": {},
          "execution_count": 6
        }
      ]
    },
    {
      "cell_type": "code",
      "metadata": {
        "id": "0TzZt2CcqmoW",
        "colab": {
          "base_uri": "https://localhost:8080/"
        },
        "outputId": "59ab1a17-26f8-43bf-d88b-e4ecbb001ae6"
      },
      "source": [
        "#La función \"size\" devuelve un vector con todas las dimensiones del tensor\n",
        "t.size() #Size of tensor"
      ],
      "execution_count": 7,
      "outputs": [
        {
          "output_type": "execute_result",
          "data": {
            "text/plain": [
              "torch.Size([2, 3, 4])"
            ]
          },
          "metadata": {},
          "execution_count": 7
        }
      ]
    },
    {
      "cell_type": "code",
      "metadata": {
        "id": "Klr2bqTBqonl",
        "colab": {
          "base_uri": "https://localhost:8080/"
        },
        "outputId": "086b14db-4c34-4657-b7d5-72b8b3a2fb70"
      },
      "source": [
        "print('t size:', '\\u00D7 '.join(map(str, t.size())))"
      ],
      "execution_count": null,
      "outputs": [
        {
          "output_type": "stream",
          "name": "stdout",
          "text": [
            "t size: 2× 3× 4\n"
          ]
        }
      ]
    },
    {
      "cell_type": "code",
      "metadata": {
        "id": "mqgNTIXNq6yt",
        "colab": {
          "base_uri": "https://localhost:8080/"
        },
        "outputId": "63936358-519a-4911-c6eb-ecf4fe934bc4"
      },
      "source": [
        "# numel devuelve la cantidad de elementos totales en un tensor\n",
        "# dim devuelve el número de dimensiones del tensor\n",
        "\n",
        "print(f'point in a {t.numel()} dimensional space')\n",
        "print(f'organised in {t.dim()} sub-dimensions')"
      ],
      "execution_count": 8,
      "outputs": [
        {
          "output_type": "stream",
          "name": "stdout",
          "text": [
            "point in a 24 dimensional space\n",
            "organised in 3 sub-dimensions\n"
          ]
        }
      ]
    },
    {
      "cell_type": "code",
      "metadata": {
        "id": "-Qq5UNf_rKbF",
        "colab": {
          "base_uri": "https://localhost:8080/"
        },
        "outputId": "01768ede-f67e-48d6-dfdc-4197c3b4de9e"
      },
      "source": [
        "#Podemos imprimir directamente el contenido de un tensor\n",
        "t"
      ],
      "execution_count": 9,
      "outputs": [
        {
          "output_type": "execute_result",
          "data": {
            "text/plain": [
              "tensor([[[0., 0., 0., 0.],\n",
              "         [0., 0., 0., 0.],\n",
              "         [0., 0., 0., 0.]],\n",
              "\n",
              "        [[0., 0., 0., 0.],\n",
              "         [0., 0., 0., 0.],\n",
              "         [0., 0., 0., 0.]]])"
            ]
          },
          "metadata": {},
          "execution_count": 9
        }
      ]
    },
    {
      "cell_type": "code",
      "metadata": {
        "id": "6ls2UumTrONl",
        "colab": {
          "base_uri": "https://localhost:8080/"
        },
        "outputId": "5c87605f-223c-4ccb-f26b-3fc7d7ede7b1"
      },
      "source": [
        "#Cuando una función del tensor tiene un underscore al final de su nombre, es porque\n",
        "# esa función cambia el contenido del tensor. En este caso, asignamos números aleatorios\n",
        "# menores a 10\n",
        "\n",
        "t.random_(10) #underscore: function that mutates a tensor in-place"
      ],
      "execution_count": 10,
      "outputs": [
        {
          "output_type": "execute_result",
          "data": {
            "text/plain": [
              "tensor([[[4., 0., 3., 7.],\n",
              "         [0., 2., 6., 9.],\n",
              "         [3., 0., 8., 2.]],\n",
              "\n",
              "        [[0., 5., 5., 7.],\n",
              "         [9., 5., 3., 9.],\n",
              "         [8., 7., 0., 6.]]])"
            ]
          },
          "metadata": {},
          "execution_count": 10
        }
      ]
    },
    {
      "cell_type": "code",
      "metadata": {
        "id": "rmaxKlxhrWD9",
        "colab": {
          "base_uri": "https://localhost:8080/"
        },
        "outputId": "82297107-6b4a-483d-cb7c-8e6e43515306"
      },
      "source": [
        "t"
      ],
      "execution_count": 11,
      "outputs": [
        {
          "output_type": "execute_result",
          "data": {
            "text/plain": [
              "tensor([[[4., 0., 3., 7.],\n",
              "         [0., 2., 6., 9.],\n",
              "         [3., 0., 8., 2.]],\n",
              "\n",
              "        [[0., 5., 5., 7.],\n",
              "         [9., 5., 3., 9.],\n",
              "         [8., 7., 0., 6.]]])"
            ]
          },
          "metadata": {},
          "execution_count": 11
        }
      ]
    },
    {
      "cell_type": "code",
      "metadata": {
        "id": "YLWTMiLarXcd",
        "colab": {
          "base_uri": "https://localhost:8080/"
        },
        "outputId": "ef856615-f371-46e5-f1a9-d4e2004f6f88"
      },
      "source": [
        "# Podemos crear un tensor usando otro tensor como referencia\n",
        "# Podemos cambiar las dimensiones de un tensor usando \"resize\"\n",
        "\n",
        "r = torch.Tensor(t)\n",
        "r.resize_(3,8)\n",
        "r"
      ],
      "execution_count": 12,
      "outputs": [
        {
          "output_type": "execute_result",
          "data": {
            "text/plain": [
              "tensor([[4., 0., 3., 7., 0., 2., 6., 9.],\n",
              "        [3., 0., 8., 2., 0., 5., 5., 7.],\n",
              "        [9., 5., 3., 9., 8., 7., 0., 6.]])"
            ]
          },
          "metadata": {},
          "execution_count": 12
        }
      ]
    },
    {
      "cell_type": "code",
      "metadata": {
        "id": "937i4F-rroAj",
        "colab": {
          "base_uri": "https://localhost:8080/"
        },
        "outputId": "9d7c6ad4-c5bf-40e6-d2d5-46c6542218d2"
      },
      "source": [
        "# Podemos asignar puros ceros a un tensor\n",
        "r.zero_()"
      ],
      "execution_count": 13,
      "outputs": [
        {
          "output_type": "execute_result",
          "data": {
            "text/plain": [
              "tensor([[0., 0., 0., 0., 0., 0., 0., 0.],\n",
              "        [0., 0., 0., 0., 0., 0., 0., 0.],\n",
              "        [0., 0., 0., 0., 0., 0., 0., 0.]])"
            ]
          },
          "metadata": {},
          "execution_count": 13
        }
      ]
    },
    {
      "cell_type": "code",
      "metadata": {
        "id": "twIg2wDqrr3M",
        "colab": {
          "base_uri": "https://localhost:8080/"
        },
        "outputId": "8219b257-bf2d-4723-db5b-2137a0fd1f2f"
      },
      "source": [
        "# Note que al cambiar \"r\" también se cambió \"t\". Eso es porque al crear el tensor \"r\"\n",
        "# en realidad se creó una referencia del tensor \"t\". Si cambiamos \"r\" también cambia \"t\"\n",
        "t"
      ],
      "execution_count": 14,
      "outputs": [
        {
          "output_type": "execute_result",
          "data": {
            "text/plain": [
              "tensor([[[0., 0., 0., 0.],\n",
              "         [0., 0., 0., 0.],\n",
              "         [0., 0., 0., 0.]],\n",
              "\n",
              "        [[0., 0., 0., 0.],\n",
              "         [0., 0., 0., 0.],\n",
              "         [0., 0., 0., 0.]]])"
            ]
          },
          "metadata": {},
          "execution_count": 14
        }
      ]
    },
    {
      "cell_type": "code",
      "metadata": {
        "id": "W6p7HA4VrtIN",
        "colab": {
          "base_uri": "https://localhost:8080/"
        },
        "outputId": "841f103e-5e0e-4a13-f8ed-2bf5daa2f559"
      },
      "source": [
        "# Si quiero copiar un tensor, pero no como referencia, uso el método \"clone\"\n",
        "s = r.clone()\n",
        "s.fill_(1)\n",
        "s"
      ],
      "execution_count": 15,
      "outputs": [
        {
          "output_type": "execute_result",
          "data": {
            "text/plain": [
              "tensor([[1., 1., 1., 1., 1., 1., 1., 1.],\n",
              "        [1., 1., 1., 1., 1., 1., 1., 1.],\n",
              "        [1., 1., 1., 1., 1., 1., 1., 1.]])"
            ]
          },
          "metadata": {},
          "execution_count": 15
        }
      ]
    },
    {
      "cell_type": "code",
      "metadata": {
        "id": "32r7SJpZr5Xd",
        "colab": {
          "base_uri": "https://localhost:8080/"
        },
        "outputId": "e595487e-eb23-47f0-92a5-72324287ec71"
      },
      "source": [
        "t"
      ],
      "execution_count": 16,
      "outputs": [
        {
          "output_type": "execute_result",
          "data": {
            "text/plain": [
              "tensor([[[0., 0., 0., 0.],\n",
              "         [0., 0., 0., 0.],\n",
              "         [0., 0., 0., 0.]],\n",
              "\n",
              "        [[0., 0., 0., 0.],\n",
              "         [0., 0., 0., 0.],\n",
              "         [0., 0., 0., 0.]]])"
            ]
          },
          "metadata": {},
          "execution_count": 16
        }
      ]
    },
    {
      "cell_type": "markdown",
      "metadata": {
        "id": "mgD1lLV_sCpK"
      },
      "source": [
        "# Vectors (1D Tensor)\n",
        "\n",
        "Lo que comúnmente conocemos como un vector, en Pytorch es un Tensor 1D."
      ]
    },
    {
      "cell_type": "code",
      "metadata": {
        "id": "omEMxLHwr6h0",
        "colab": {
          "base_uri": "https://localhost:8080/"
        },
        "outputId": "4cac551e-14ab-4874-b4ab-79b126b95d30"
      },
      "source": [
        "# Podemos crear un tensor 1D, especificando los elementos directamente\n",
        "\n",
        "v = torch.Tensor([1, 2, 3, 4])\n",
        "v"
      ],
      "execution_count": 17,
      "outputs": [
        {
          "output_type": "execute_result",
          "data": {
            "text/plain": [
              "tensor([1., 2., 3., 4.])"
            ]
          },
          "metadata": {},
          "execution_count": 17
        }
      ]
    },
    {
      "cell_type": "code",
      "metadata": {
        "id": "CfVhhgy1sJ4L",
        "colab": {
          "base_uri": "https://localhost:8080/"
        },
        "outputId": "13ece863-b2f2-46d2-fc97-cf29d5795f31"
      },
      "source": [
        "# Dimensión y tamaño\n",
        "print(f'dim: {v.dim()}, size: {v.size()[0]}')"
      ],
      "execution_count": 18,
      "outputs": [
        {
          "output_type": "stream",
          "name": "stdout",
          "text": [
            "dim: 1, size: 4\n"
          ]
        }
      ]
    },
    {
      "cell_type": "code",
      "metadata": {
        "id": "DvtKd5G7sSoL",
        "colab": {
          "base_uri": "https://localhost:8080/"
        },
        "outputId": "6a3cc956-8484-4fce-e75c-3221589a223f"
      },
      "source": [
        "# Creamos un segundo tensor\n",
        "w = torch.Tensor([1, 0, 2, 0])\n",
        "w"
      ],
      "execution_count": 19,
      "outputs": [
        {
          "output_type": "execute_result",
          "data": {
            "text/plain": [
              "tensor([1., 0., 2., 0.])"
            ]
          },
          "metadata": {},
          "execution_count": 19
        }
      ]
    },
    {
      "cell_type": "code",
      "metadata": {
        "id": "e1SnR5rjsX4l",
        "colab": {
          "base_uri": "https://localhost:8080/"
        },
        "outputId": "3f035c30-636a-49c6-ad11-1dc707a043b7"
      },
      "source": [
        "# Puedo ejecutar la multiplicación elemento a elemento entre dos tensores\n",
        "# usando el operador *\n",
        "\n",
        "v * w #Element-wise multiplication"
      ],
      "execution_count": 20,
      "outputs": [
        {
          "output_type": "execute_result",
          "data": {
            "text/plain": [
              "tensor([1., 0., 6., 0.])"
            ]
          },
          "metadata": {},
          "execution_count": 20
        }
      ]
    },
    {
      "cell_type": "code",
      "metadata": {
        "id": "DM1f7xsRsaos",
        "colab": {
          "base_uri": "https://localhost:8080/"
        },
        "outputId": "1c7586a1-d98f-484a-a13a-2c15e9d74387"
      },
      "source": [
        "# Mientras que si quiero aplicar el producto punto entre dos vectores,\n",
        "# usamos el operador @\n",
        "v @ w"
      ],
      "execution_count": 21,
      "outputs": [
        {
          "output_type": "execute_result",
          "data": {
            "text/plain": [
              "tensor(7.)"
            ]
          },
          "metadata": {},
          "execution_count": 21
        }
      ]
    },
    {
      "cell_type": "code",
      "metadata": {
        "id": "H65lA_vVskXa",
        "colab": {
          "base_uri": "https://localhost:8080/"
        },
        "outputId": "ccf690c5-d429-4e0c-c8fb-7d602d744fd1"
      },
      "source": [
        "# Creamos un tensor de 5 elementos aleatorios con valores menores a 10\n",
        "x = torch.Tensor(5).random_(10)\n",
        "x"
      ],
      "execution_count": 22,
      "outputs": [
        {
          "output_type": "execute_result",
          "data": {
            "text/plain": [
              "tensor([5., 2., 3., 7., 1.])"
            ]
          },
          "metadata": {},
          "execution_count": 22
        }
      ]
    },
    {
      "cell_type": "code",
      "metadata": {
        "id": "jp-J4xp-sugS",
        "colab": {
          "base_uri": "https://localhost:8080/"
        },
        "outputId": "fd2f025c-6c4c-4a87-efe2-a311da52bd6d"
      },
      "source": [
        "# Puedo acceder a los elementos del tensor, tan igual como a un arreglo\n",
        "\n",
        "print(f'first: {x[0]}, last: {x[-1]}')"
      ],
      "execution_count": 23,
      "outputs": [
        {
          "output_type": "stream",
          "name": "stdout",
          "text": [
            "first: 5.0, last: 1.0\n"
          ]
        }
      ]
    },
    {
      "cell_type": "code",
      "metadata": {
        "id": "uJWEGGJHs3tg",
        "colab": {
          "base_uri": "https://localhost:8080/"
        },
        "outputId": "e9bf0688-e0fa-441b-9d9e-6f9b741b1a3b"
      },
      "source": [
        "#Tambien puede acceder a un conjunto de elemtos del tensor usando la notación :\n",
        "\n",
        "x[1:2+1]"
      ],
      "execution_count": 24,
      "outputs": [
        {
          "output_type": "execute_result",
          "data": {
            "text/plain": [
              "tensor([2., 3.])"
            ]
          },
          "metadata": {},
          "execution_count": 24
        }
      ]
    },
    {
      "cell_type": "code",
      "metadata": {
        "id": "BgeiTS0ws8Ek",
        "colab": {
          "base_uri": "https://localhost:8080/"
        },
        "outputId": "bd0e3689-38f0-4f23-9c07-73118bbd52ae"
      },
      "source": [
        "v"
      ],
      "execution_count": 25,
      "outputs": [
        {
          "output_type": "execute_result",
          "data": {
            "text/plain": [
              "tensor([1., 2., 3., 4.])"
            ]
          },
          "metadata": {},
          "execution_count": 25
        }
      ]
    },
    {
      "cell_type": "code",
      "metadata": {
        "id": "GlD_7G1Gs--b",
        "colab": {
          "base_uri": "https://localhost:8080/"
        },
        "outputId": "abc891f6-244f-411b-85b4-14ee8158f58e"
      },
      "source": [
        "# Puedo crear un tensor como una secuencia de números\n",
        "v = torch.arange(1, 4+1)\n",
        "v"
      ],
      "execution_count": 26,
      "outputs": [
        {
          "output_type": "execute_result",
          "data": {
            "text/plain": [
              "tensor([1, 2, 3, 4])"
            ]
          },
          "metadata": {},
          "execution_count": 26
        }
      ]
    },
    {
      "cell_type": "code",
      "metadata": {
        "id": "Z_ENtpPmtEuq",
        "colab": {
          "base_uri": "https://localhost:8080/"
        },
        "outputId": "288e2ded-7f65-4d10-8a01-18db7dd17ef6"
      },
      "source": [
        "# Puedo aplicar una función a cada elemento del tensor\n",
        "print(v.pow(2), v)"
      ],
      "execution_count": 27,
      "outputs": [
        {
          "output_type": "stream",
          "name": "stdout",
          "text": [
            "tensor([ 1,  4,  9, 16]) tensor([1, 2, 3, 4])\n"
          ]
        }
      ]
    },
    {
      "cell_type": "markdown",
      "metadata": {
        "id": "63LIr6lGtM7u"
      },
      "source": [
        "# Matrices (2D Tensors)\n",
        "\n",
        "Lo que comúnmente conocemos como matrices, en Pytorch es un tensor 2D"
      ]
    },
    {
      "cell_type": "code",
      "metadata": {
        "id": "Lur65-06tJpy",
        "colab": {
          "base_uri": "https://localhost:8080/"
        },
        "outputId": "ce409939-a5c6-4594-f802-d918a6612dfe"
      },
      "source": [
        "# Puedo crear un tensor 2D especificando directamente sus elementos\n",
        "\n",
        "m = torch.Tensor([[2, 5, 3, 7],[4, 2, 1, 9]])\n",
        "m"
      ],
      "execution_count": 28,
      "outputs": [
        {
          "output_type": "execute_result",
          "data": {
            "text/plain": [
              "tensor([[2., 5., 3., 7.],\n",
              "        [4., 2., 1., 9.]])"
            ]
          },
          "metadata": {},
          "execution_count": 28
        }
      ]
    },
    {
      "cell_type": "code",
      "metadata": {
        "id": "shpA82hutWWq",
        "colab": {
          "base_uri": "https://localhost:8080/"
        },
        "outputId": "38289392-21c8-47bf-807e-7c20ed6c8b9d"
      },
      "source": [
        "# Dimensión\n",
        "\n",
        "m.dim()"
      ],
      "execution_count": 29,
      "outputs": [
        {
          "output_type": "execute_result",
          "data": {
            "text/plain": [
              "2"
            ]
          },
          "metadata": {},
          "execution_count": 29
        }
      ]
    },
    {
      "cell_type": "code",
      "metadata": {
        "id": "7HoQYPU-tX56",
        "colab": {
          "base_uri": "https://localhost:8080/"
        },
        "outputId": "5b62f2b5-c644-4322-d82b-d3b43eb1d1c8"
      },
      "source": [
        "# Tamaño de cada dimensión y tamaño completo\n",
        "print(m.size(0), m.size(1), m.size(), sep=' -- ')"
      ],
      "execution_count": 30,
      "outputs": [
        {
          "output_type": "stream",
          "name": "stdout",
          "text": [
            "2 -- 4 -- torch.Size([2, 4])\n"
          ]
        }
      ]
    },
    {
      "cell_type": "code",
      "metadata": {
        "id": "r1yzexrztfKq",
        "colab": {
          "base_uri": "https://localhost:8080/"
        },
        "outputId": "f9b97654-34d3-4b13-990d-e2d108929546"
      },
      "source": [
        "# Cantidad de elementos totales en el tensor\n",
        "m.numel()"
      ],
      "execution_count": 31,
      "outputs": [
        {
          "output_type": "execute_result",
          "data": {
            "text/plain": [
              "8"
            ]
          },
          "metadata": {},
          "execution_count": 31
        }
      ]
    },
    {
      "cell_type": "code",
      "metadata": {
        "id": "y0Q_wjCstiYr",
        "colab": {
          "base_uri": "https://localhost:8080/"
        },
        "outputId": "f5c5a81b-bf61-4819-882c-8fa8ab41bcb2"
      },
      "source": [
        "# Puedo acceder a los elementos de distintas formas:\n",
        "# Notación C/C++\n",
        "\n",
        "m[0][2]"
      ],
      "execution_count": 32,
      "outputs": [
        {
          "output_type": "execute_result",
          "data": {
            "text/plain": [
              "tensor(3.)"
            ]
          },
          "metadata": {},
          "execution_count": 32
        }
      ]
    },
    {
      "cell_type": "code",
      "metadata": {
        "id": "-JhWdZPWtmF6",
        "colab": {
          "base_uri": "https://localhost:8080/"
        },
        "outputId": "bde36e4e-7056-4b38-c249-fc238fd9f01b"
      },
      "source": [
        "# Notación Matlab\n",
        "\n",
        "m[0,2]"
      ],
      "execution_count": 33,
      "outputs": [
        {
          "output_type": "execute_result",
          "data": {
            "text/plain": [
              "tensor(3.)"
            ]
          },
          "metadata": {},
          "execution_count": 33
        }
      ]
    },
    {
      "cell_type": "code",
      "metadata": {
        "id": "bPNILmR3toip",
        "colab": {
          "base_uri": "https://localhost:8080/"
        },
        "outputId": "f525757c-9d23-49b3-f6dd-2f95306b853a"
      },
      "source": [
        "# Puedo aceder a todos los elementos de una determinada columna\n",
        "m[:,1]"
      ],
      "execution_count": 34,
      "outputs": [
        {
          "output_type": "execute_result",
          "data": {
            "text/plain": [
              "tensor([5., 2.])"
            ]
          },
          "metadata": {},
          "execution_count": 34
        }
      ]
    },
    {
      "cell_type": "code",
      "metadata": {
        "id": "YTbfIISPtrgp",
        "colab": {
          "base_uri": "https://localhost:8080/"
        },
        "outputId": "4c907965-fcf9-48fb-f57d-e223ce7e9ca7"
      },
      "source": [
        "# O devolver la columna como un tensor 2D también\n",
        "m[:,[1]]"
      ],
      "execution_count": 35,
      "outputs": [
        {
          "output_type": "execute_result",
          "data": {
            "text/plain": [
              "tensor([[5.],\n",
              "        [2.]])"
            ]
          },
          "metadata": {},
          "execution_count": 35
        }
      ]
    },
    {
      "cell_type": "code",
      "metadata": {
        "id": "TWgIABwrtxEZ",
        "colab": {
          "base_uri": "https://localhost:8080/"
        },
        "outputId": "c14a74c1-29e0-460a-b741-1d79ae0f0d1f"
      },
      "source": [
        "# Lo mismo para las filas\n",
        "m[[0],:]"
      ],
      "execution_count": 36,
      "outputs": [
        {
          "output_type": "execute_result",
          "data": {
            "text/plain": [
              "tensor([[2., 5., 3., 7.]])"
            ]
          },
          "metadata": {},
          "execution_count": 36
        }
      ]
    },
    {
      "cell_type": "code",
      "metadata": {
        "id": "WL4HM4q5t5Oq",
        "colab": {
          "base_uri": "https://localhost:8080/"
        },
        "outputId": "71fd9e45-30c0-4d32-cf3a-5454e409edfd"
      },
      "source": [
        "# La primera fila\n",
        "m[0,:]"
      ],
      "execution_count": 37,
      "outputs": [
        {
          "output_type": "execute_result",
          "data": {
            "text/plain": [
              "tensor([2., 5., 3., 7.])"
            ]
          },
          "metadata": {},
          "execution_count": 37
        }
      ]
    },
    {
      "cell_type": "code",
      "metadata": {
        "id": "5KoKNm-vt8QY",
        "colab": {
          "base_uri": "https://localhost:8080/"
        },
        "outputId": "099f9659-8ce0-47a5-bd1d-3920f84860d9"
      },
      "source": [
        "# Creo un tensor 1D de 4 elementos con aleatorios menores a 3\n",
        "v = torch.Tensor(4).random_(3)\n",
        "v"
      ],
      "execution_count": 38,
      "outputs": [
        {
          "output_type": "execute_result",
          "data": {
            "text/plain": [
              "tensor([0., 0., 2., 2.])"
            ]
          },
          "metadata": {},
          "execution_count": 38
        }
      ]
    },
    {
      "cell_type": "code",
      "metadata": {
        "id": "WadQXlO-uDey",
        "colab": {
          "base_uri": "https://localhost:8080/"
        },
        "outputId": "430e680d-e5c5-4c86-bbd3-98945616120f"
      },
      "source": [
        "m"
      ],
      "execution_count": 39,
      "outputs": [
        {
          "output_type": "execute_result",
          "data": {
            "text/plain": [
              "tensor([[2., 5., 3., 7.],\n",
              "        [4., 2., 1., 9.]])"
            ]
          },
          "metadata": {},
          "execution_count": 39
        }
      ]
    },
    {
      "cell_type": "code",
      "metadata": {
        "id": "HPjmDewbuGUZ",
        "colab": {
          "base_uri": "https://localhost:8080/"
        },
        "outputId": "764f91e5-f29f-4061-b3b7-207b81bf7382"
      },
      "source": [
        "#Multiplicación matricial entre un tensor 2D y un tensor 1D\n",
        "m @ v"
      ],
      "execution_count": 40,
      "outputs": [
        {
          "output_type": "execute_result",
          "data": {
            "text/plain": [
              "tensor([20., 20.])"
            ]
          },
          "metadata": {},
          "execution_count": 40
        }
      ]
    },
    {
      "cell_type": "code",
      "metadata": {
        "id": "kdaaTZH6uJlI",
        "colab": {
          "base_uri": "https://localhost:8080/"
        },
        "outputId": "103528cb-d5b5-4a3b-d3a0-2563f727d84a"
      },
      "source": [
        "# Puedo hacer la multiplicación entre una sola fila y el tensor 1D\n",
        "m[[0],:] @ v"
      ],
      "execution_count": 41,
      "outputs": [
        {
          "output_type": "execute_result",
          "data": {
            "text/plain": [
              "tensor([20.])"
            ]
          },
          "metadata": {},
          "execution_count": 41
        }
      ]
    },
    {
      "cell_type": "code",
      "metadata": {
        "id": "xh0vAKpkupqo",
        "colab": {
          "base_uri": "https://localhost:8080/"
        },
        "outputId": "e8091693-dddc-4c1d-e9c9-1fe8782559a9"
      },
      "source": [
        "# Le sumo un tensor aleatorio a \"m\"\n",
        "m + torch.rand(2,4)"
      ],
      "execution_count": 42,
      "outputs": [
        {
          "output_type": "execute_result",
          "data": {
            "text/plain": [
              "tensor([[2.1667, 5.1930, 3.5217, 7.4002],\n",
              "        [4.7977, 2.5143, 1.0931, 9.1041]])"
            ]
          },
          "metadata": {},
          "execution_count": 42
        }
      ]
    },
    {
      "cell_type": "code",
      "metadata": {
        "id": "n1YhSQfauyOB",
        "colab": {
          "base_uri": "https://localhost:8080/"
        },
        "outputId": "d0dd6578-d34b-4957-cb28-07fdc12f6aaa"
      },
      "source": [
        "# Le resto un tensor aleatorio a \"m\"\n",
        "m - torch.rand(2,4)"
      ],
      "execution_count": 43,
      "outputs": [
        {
          "output_type": "execute_result",
          "data": {
            "text/plain": [
              "tensor([[1.3716, 4.7954, 2.2333, 6.9205],\n",
              "        [3.7825, 1.6598, 0.1247, 8.6684]])"
            ]
          },
          "metadata": {},
          "execution_count": 43
        }
      ]
    },
    {
      "cell_type": "code",
      "metadata": {
        "id": "VVdMZJexu2CI",
        "colab": {
          "base_uri": "https://localhost:8080/"
        },
        "outputId": "1efc2447-77bd-4ff5-e2d6-3d676e6afc77"
      },
      "source": [
        "# Le multiplico un tensor aleatorio a \"m\" (elemento a elemento)\n",
        "m * torch.rand(2,4)"
      ],
      "execution_count": 44,
      "outputs": [
        {
          "output_type": "execute_result",
          "data": {
            "text/plain": [
              "tensor([[0.6125, 4.4081, 1.4927, 5.3423],\n",
              "        [0.8671, 0.6940, 0.2905, 2.0499]])"
            ]
          },
          "metadata": {},
          "execution_count": 44
        }
      ]
    },
    {
      "cell_type": "code",
      "metadata": {
        "id": "Ubh5NO6lu6Ov",
        "colab": {
          "base_uri": "https://localhost:8080/"
        },
        "outputId": "571d8a01-b58f-4323-dd8b-304a62cb4ba4"
      },
      "source": [
        "# Divido dos tensores (elemento a elemento)\n",
        "m/torch.rand(2,4)"
      ],
      "execution_count": 45,
      "outputs": [
        {
          "output_type": "execute_result",
          "data": {
            "text/plain": [
              "tensor([[ 2.0455,  6.9328,  4.6072, 23.0459],\n",
              "        [ 9.2529,  3.1930,  1.2967, 27.9564]])"
            ]
          },
          "metadata": {},
          "execution_count": 45
        }
      ]
    },
    {
      "cell_type": "code",
      "metadata": {
        "id": "6GvS77ogu9qn",
        "colab": {
          "base_uri": "https://localhost:8080/"
        },
        "outputId": "ae01f07e-70d6-4d2a-fbe5-07c348233986"
      },
      "source": [
        "#Tamaño\n",
        "m.size()"
      ],
      "execution_count": 46,
      "outputs": [
        {
          "output_type": "execute_result",
          "data": {
            "text/plain": [
              "torch.Size([2, 4])"
            ]
          },
          "metadata": {},
          "execution_count": 46
        }
      ]
    },
    {
      "cell_type": "code",
      "metadata": {
        "id": "ntgODkRzu_l_",
        "colab": {
          "base_uri": "https://localhost:8080/"
        },
        "outputId": "117ba126-624a-4d9c-cdaa-8eab0093d497"
      },
      "source": [
        "# La ranspuesta de una tensor se computa con la función \"t\"\n",
        "m.t()"
      ],
      "execution_count": 47,
      "outputs": [
        {
          "output_type": "execute_result",
          "data": {
            "text/plain": [
              "tensor([[2., 4.],\n",
              "        [5., 2.],\n",
              "        [3., 1.],\n",
              "        [7., 9.]])"
            ]
          },
          "metadata": {},
          "execution_count": 47
        }
      ]
    },
    {
      "cell_type": "code",
      "metadata": {
        "id": "5AElJdVjvB4A",
        "colab": {
          "base_uri": "https://localhost:8080/"
        },
        "outputId": "0c1fb575-2c6b-4d8d-cc14-e0901293ee5e"
      },
      "source": [
        "# O con la función \"transpose\"\n",
        "m.transpose(0,1)"
      ],
      "execution_count": 48,
      "outputs": [
        {
          "output_type": "execute_result",
          "data": {
            "text/plain": [
              "tensor([[2., 4.],\n",
              "        [5., 2.],\n",
              "        [3., 1.],\n",
              "        [7., 9.]])"
            ]
          },
          "metadata": {},
          "execution_count": 48
        }
      ]
    },
    {
      "cell_type": "markdown",
      "metadata": {
        "id": "50a84gNhvNk8"
      },
      "source": [
        "# Constructor\n",
        "\n",
        "Distintas formas de crear un tensor"
      ]
    },
    {
      "cell_type": "code",
      "metadata": {
        "id": "bHpP57H_vHgo",
        "colab": {
          "base_uri": "https://localhost:8080/"
        },
        "outputId": "91f5e161-0bc8-4a86-a80a-1a24067a3792"
      },
      "source": [
        "# Usando un rango\n",
        "torch.arange(3., 8+1)"
      ],
      "execution_count": null,
      "outputs": [
        {
          "output_type": "execute_result",
          "data": {
            "text/plain": [
              "tensor([3., 4., 5., 6., 7., 8.])"
            ]
          },
          "metadata": {},
          "execution_count": 58
        }
      ]
    },
    {
      "cell_type": "code",
      "metadata": {
        "id": "2zz3IXHKvY2X",
        "colab": {
          "base_uri": "https://localhost:8080/"
        },
        "outputId": "a2a91f50-f374-41b9-ff6b-d88cfb25bd94"
      },
      "source": [
        "#Usando rangos\n",
        "torch.arange(5.7, -2.1, -3)"
      ],
      "execution_count": null,
      "outputs": [
        {
          "output_type": "execute_result",
          "data": {
            "text/plain": [
              "tensor([ 5.7000,  2.7000, -0.3000])"
            ]
          },
          "metadata": {},
          "execution_count": 59
        }
      ]
    },
    {
      "cell_type": "code",
      "metadata": {
        "id": "gMJIdS6evev4",
        "colab": {
          "base_uri": "https://localhost:8080/"
        },
        "outputId": "c7667e72-214c-4c25-e2c0-88268285fdd0"
      },
      "source": [
        "#Creo un tensor con 3 dimensiones y lo transformo a un tensor de una dimensión\n",
        "torch.zeros(3,4,6).view(1,-1)"
      ],
      "execution_count": null,
      "outputs": [
        {
          "output_type": "execute_result",
          "data": {
            "text/plain": [
              "tensor([[0., 0., 0., 0., 0., 0., 0., 0., 0., 0., 0., 0., 0., 0., 0., 0., 0., 0., 0., 0., 0., 0., 0., 0.,\n",
              "         0., 0., 0., 0., 0., 0., 0., 0., 0., 0., 0., 0., 0., 0., 0., 0., 0., 0., 0., 0., 0., 0., 0., 0.,\n",
              "         0., 0., 0., 0., 0., 0., 0., 0., 0., 0., 0., 0., 0., 0., 0., 0., 0., 0., 0., 0., 0., 0., 0., 0.]])"
            ]
          },
          "metadata": {},
          "execution_count": 65
        }
      ]
    },
    {
      "cell_type": "code",
      "metadata": {
        "id": "TTzaQ5ARvoud"
      },
      "source": [
        "# View es una función para generar nuevas formas de tensores usando la data original\n",
        "# de un tensor. Hay que tener cuidado, porque las dimensiones deben coincidir\n",
        "torch.Tensor.view?"
      ],
      "execution_count": null,
      "outputs": []
    },
    {
      "cell_type": "code",
      "metadata": {
        "id": "eSKoeu04v6Vn",
        "colab": {
          "base_uri": "https://localhost:8080/"
        },
        "outputId": "7ed6100a-8861-413f-8183-54e2b892c749"
      },
      "source": [
        "# Creo un tensor 2D de ceros\n",
        "torch.zeros(3,5)"
      ],
      "execution_count": null,
      "outputs": [
        {
          "output_type": "execute_result",
          "data": {
            "text/plain": [
              "tensor([[0., 0., 0., 0., 0.],\n",
              "        [0., 0., 0., 0., 0.],\n",
              "        [0., 0., 0., 0., 0.]])"
            ]
          },
          "metadata": {},
          "execution_count": 68
        }
      ]
    },
    {
      "cell_type": "code",
      "metadata": {
        "id": "ZDiPZWfWxlVV",
        "colab": {
          "base_uri": "https://localhost:8080/"
        },
        "outputId": "d92028a6-1da4-43db-8d60-a2ff73dce0be"
      },
      "source": [
        "# Creo un tensor 3D de unos\n",
        "torch.ones(3, 2, 5)"
      ],
      "execution_count": null,
      "outputs": [
        {
          "output_type": "execute_result",
          "data": {
            "text/plain": [
              "tensor([[[1., 1., 1., 1., 1.],\n",
              "         [1., 1., 1., 1., 1.]],\n",
              "\n",
              "        [[1., 1., 1., 1., 1.],\n",
              "         [1., 1., 1., 1., 1.]],\n",
              "\n",
              "        [[1., 1., 1., 1., 1.],\n",
              "         [1., 1., 1., 1., 1.]]])"
            ]
          },
          "metadata": {},
          "execution_count": 69
        }
      ]
    },
    {
      "cell_type": "code",
      "metadata": {
        "id": "j4vlUePDyJfD",
        "colab": {
          "base_uri": "https://localhost:8080/"
        },
        "outputId": "e74a6227-7b90-4380-cd43-0f5da60ed79a"
      },
      "source": [
        "# Creo un tensor 2D como matriz identidad\n",
        "torch.eye(3)"
      ],
      "execution_count": null,
      "outputs": [
        {
          "output_type": "execute_result",
          "data": {
            "text/plain": [
              "tensor([[1., 0., 0.],\n",
              "        [0., 1., 0.],\n",
              "        [0., 0., 1.]])"
            ]
          },
          "metadata": {},
          "execution_count": 70
        }
      ]
    },
    {
      "cell_type": "code",
      "metadata": {
        "id": "EPDu6fJSyMQb"
      },
      "source": [
        "\n",
        "from matplotlib import pyplot as plt\n"
      ],
      "execution_count": null,
      "outputs": []
    },
    {
      "cell_type": "code",
      "metadata": {
        "id": "xYQqHyL0ynt-",
        "colab": {
          "base_uri": "https://localhost:8080/",
          "height": 783
        },
        "outputId": "09b5e44a-0ce5-4068-c84a-f6a9f130e13c"
      },
      "source": [
        "# Creo un tensor 1D de 1000 elementos y lo convierto a array numpy\n",
        "A = torch.randn(1000).numpy()\n",
        "\n",
        "#Creo un histograma con sus valores\n",
        "plt.hist(A, 100)"
      ],
      "execution_count": null,
      "outputs": [
        {
          "output_type": "execute_result",
          "data": {
            "text/plain": [
              "(array([ 4.,  0.,  3.,  1.,  2.,  4.,  1.,  3.,  3.,  6.,  4.,  2.,  2.,\n",
              "         4.,  7.,  5.,  6.,  4.,  6.,  9., 17., 14., 14., 19., 14., 25.,\n",
              "        20., 14., 19., 21., 17., 25., 23., 28., 20., 17., 25., 28., 25.,\n",
              "        26., 30., 25., 28., 18., 23., 15., 22., 23., 19., 17., 24., 19.,\n",
              "        22., 21., 19., 15., 16., 10., 13., 15., 10., 13.,  9., 11.,  4.,\n",
              "         9.,  6.,  5.,  8.,  5.,  6.,  5.,  4.,  5.,  1.,  3.,  3.,  1.,\n",
              "         0.,  0.,  1.,  6.,  1.,  0.,  2.,  0.,  0.,  0.,  0.,  0.,  0.,\n",
              "         0.,  0.,  0.,  0.,  0.,  0.,  0.,  0.,  1.]),\n",
              " array([-2.5870776 , -2.523725  , -2.4603722 , -2.3970194 , -2.3336668 ,\n",
              "        -2.2703142 , -2.2069614 , -2.1436086 , -2.080256  , -2.0169034 ,\n",
              "        -1.9535506 , -1.8901979 , -1.8268452 , -1.7634925 , -1.7001398 ,\n",
              "        -1.636787  , -1.5734344 , -1.5100816 , -1.446729  , -1.3833762 ,\n",
              "        -1.3200235 , -1.2566708 , -1.1933181 , -1.1299654 , -1.0666127 ,\n",
              "        -1.00326   , -0.9399073 , -0.8765546 , -0.8132019 , -0.7498492 ,\n",
              "        -0.6864965 , -0.6231438 , -0.5597911 , -0.49643838, -0.43308568,\n",
              "        -0.36973298, -0.30638027, -0.24302757, -0.17967486, -0.11632216,\n",
              "        -0.05296946,  0.01038325,  0.07373595,  0.13708866,  0.20044136,\n",
              "         0.26379406,  0.32714677,  0.39049947,  0.45385218,  0.5172049 ,\n",
              "         0.5805576 ,  0.6439103 ,  0.707263  ,  0.7706157 ,  0.8339684 ,\n",
              "         0.8973211 ,  0.9606738 ,  1.0240265 ,  1.0873792 ,  1.1507319 ,\n",
              "         1.2140846 ,  1.2774373 ,  1.34079   ,  1.4041427 ,  1.4674954 ,\n",
              "         1.5308481 ,  1.5942008 ,  1.6575536 ,  1.7209063 ,  1.784259  ,\n",
              "         1.8476117 ,  1.9109644 ,  1.9743171 ,  2.0376697 ,  2.1010225 ,\n",
              "         2.1643753 ,  2.227728  ,  2.2910805 ,  2.3544333 ,  2.4177861 ,\n",
              "         2.4811387 ,  2.5444913 ,  2.607844  ,  2.671197  ,  2.7345495 ,\n",
              "         2.797902  ,  2.861255  ,  2.9246078 ,  2.9879603 ,  3.051313  ,\n",
              "         3.1146657 ,  3.1780186 ,  3.2413712 ,  3.3047237 ,  3.3680766 ,\n",
              "         3.4314294 ,  3.494782  ,  3.5581346 ,  3.6214874 ,  3.6848402 ,\n",
              "         3.7481928 ], dtype=float32),\n",
              " <a list of 100 Patch objects>)"
            ]
          },
          "metadata": {},
          "execution_count": 76
        },
        {
          "output_type": "display_data",
          "data": {
            "image/png": "[encoded data removed]",
            "text/plain": [
              "<Figure size 432x288 with 1 Axes>"
            ]
          },
          "metadata": {
            "needs_background": "light"
          }
        }
      ]
    },
    {
      "cell_type": "code",
      "metadata": {
        "id": "A1rvFoYlzNGx",
        "colab": {
          "base_uri": "https://localhost:8080/"
        },
        "outputId": "a93f76b7-9d6a-4daf-fd53-fa8fbcdfd6e4"
      },
      "source": [
        "m"
      ],
      "execution_count": null,
      "outputs": [
        {
          "output_type": "execute_result",
          "data": {
            "text/plain": [
              "tensor([[2., 5., 3., 7.],\n",
              "        [4., 2., 1., 9.]])"
            ]
          },
          "metadata": {},
          "execution_count": 78
        }
      ]
    },
    {
      "cell_type": "code",
      "metadata": {
        "id": "2fRJrr0xzQNC",
        "colab": {
          "base_uri": "https://localhost:8080/"
        },
        "outputId": "35c8d4e5-0b7b-4446-eea6-f9d35b30fd0d"
      },
      "source": [
        "# puedo transformar el tipo de un tensor\n",
        "m_double = m.double()\n",
        "m_double"
      ],
      "execution_count": null,
      "outputs": [
        {
          "output_type": "execute_result",
          "data": {
            "text/plain": [
              "tensor([[2., 5., 3., 7.],\n",
              "        [4., 2., 1., 9.]], dtype=torch.float64)"
            ]
          },
          "metadata": {},
          "execution_count": 80
        }
      ]
    },
    {
      "cell_type": "code",
      "metadata": {
        "id": "rAN15TCWzTqp",
        "colab": {
          "base_uri": "https://localhost:8080/"
        },
        "outputId": "193dc4dc-04ef-4d51-eb22-bf8a8edf861d"
      },
      "source": [
        "m_byte = m.byte()\n",
        "m"
      ],
      "execution_count": null,
      "outputs": [
        {
          "output_type": "execute_result",
          "data": {
            "text/plain": [
              "tensor([[2., 5., 3., 7.],\n",
              "        [4., 2., 1., 9.]])"
            ]
          },
          "metadata": {},
          "execution_count": 81
        }
      ]
    },
    {
      "cell_type": "code",
      "metadata": {
        "id": "BE4Ai6lKzYfZ"
      },
      "source": [
        "# Puedo elegir almacenar un tensor en el GPU o en la RAM\n",
        "device = torch.device(\"cuda\" if torch.cuda.is_available() else \"cpu\")"
      ],
      "execution_count": null,
      "outputs": []
    },
    {
      "cell_type": "code",
      "metadata": {
        "id": "ZYABHAY9zjvC",
        "colab": {
          "base_uri": "https://localhost:8080/"
        },
        "outputId": "7d1b6de0-e3f3-4da1-e601-6debc55dad4c"
      },
      "source": [
        "device"
      ],
      "execution_count": null,
      "outputs": [
        {
          "output_type": "execute_result",
          "data": {
            "text/plain": [
              "device(type='cpu')"
            ]
          },
          "metadata": {},
          "execution_count": 83
        }
      ]
    },
    {
      "cell_type": "code",
      "metadata": {
        "id": "N-PE3sWIzk2J",
        "colab": {
          "base_uri": "https://localhost:8080/"
        },
        "outputId": "b63b6e99-2eba-477c-d8cf-dd276a25a12f"
      },
      "source": [
        "# Puedo enviar el tensor al correspondiente dispositivo. Si hay un GPU\n",
        "# lo enviará al GPU\n",
        "m.to(device)"
      ],
      "execution_count": null,
      "outputs": [
        {
          "output_type": "execute_result",
          "data": {
            "text/plain": [
              "tensor([[2., 5., 3., 7.],\n",
              "        [4., 2., 1., 9.]])"
            ]
          },
          "metadata": {},
          "execution_count": 84
        }
      ]
    },
    {
      "cell_type": "code",
      "metadata": {
        "id": "Y2WWgBcGzqfq",
        "colab": {
          "base_uri": "https://localhost:8080/"
        },
        "outputId": "7fa97c9b-4f06-4088-d30e-45e9d3176c62"
      },
      "source": [
        "m_np = m.numpy()\n",
        "m_np"
      ],
      "execution_count": null,
      "outputs": [
        {
          "output_type": "execute_result",
          "data": {
            "text/plain": [
              "array([[2., 5., 3., 7.],\n",
              "       [4., 2., 1., 9.]], dtype=float32)"
            ]
          },
          "metadata": {},
          "execution_count": 85
        }
      ]
    },
    {
      "cell_type": "code",
      "metadata": {
        "id": "yxL6psaOzvak",
        "colab": {
          "base_uri": "https://localhost:8080/"
        },
        "outputId": "fbd55074-2ef7-4aea-d341-ab81b514e4ac"
      },
      "source": [
        "m_np[0,0]=-1\n",
        "m_np"
      ],
      "execution_count": null,
      "outputs": [
        {
          "output_type": "execute_result",
          "data": {
            "text/plain": [
              "array([[-1.,  5.,  3.,  7.],\n",
              "       [ 4.,  2.,  1.,  9.]], dtype=float32)"
            ]
          },
          "metadata": {},
          "execution_count": 86
        }
      ]
    },
    {
      "cell_type": "code",
      "metadata": {
        "id": "MLLyi1gFz0HJ",
        "colab": {
          "base_uri": "https://localhost:8080/"
        },
        "outputId": "3901947e-07e0-495d-ec56-2f9e2d24d27a"
      },
      "source": [
        "m"
      ],
      "execution_count": null,
      "outputs": [
        {
          "output_type": "execute_result",
          "data": {
            "text/plain": [
              "tensor([[-1.,  5.,  3.,  7.],\n",
              "        [ 4.,  2.,  1.,  9.]])"
            ]
          },
          "metadata": {},
          "execution_count": 87
        }
      ]
    },
    {
      "cell_type": "code",
      "metadata": {
        "id": "Bbe1un2gz2YZ",
        "colab": {
          "base_uri": "https://localhost:8080/"
        },
        "outputId": "417a592a-3761-4c21-97ea-581ad3f42c29"
      },
      "source": [
        "# Puedo crear un tensor a partir de un arreglo numpy\n",
        "import numpy as np\n",
        "\n",
        "n_np = np.arange(5)\n",
        "n = torch.from_numpy(n_np)\n",
        "print(n_np, n)"
      ],
      "execution_count": null,
      "outputs": [
        {
          "output_type": "stream",
          "name": "stdout",
          "text": [
            "[0 1 2 3 4] tensor([0, 1, 2, 3, 4])\n"
          ]
        }
      ]
    },
    {
      "cell_type": "code",
      "metadata": {
        "id": "KnjGIc2_0BW_",
        "colab": {
          "base_uri": "https://localhost:8080/"
        },
        "outputId": "b4b35001-8162-404b-9889-cd5d4eb21593"
      },
      "source": [
        "n.mul_(2)"
      ],
      "execution_count": null,
      "outputs": [
        {
          "output_type": "execute_result",
          "data": {
            "text/plain": [
              "tensor([0, 2, 4, 6, 8])"
            ]
          },
          "metadata": {},
          "execution_count": 89
        }
      ]
    },
    {
      "cell_type": "code",
      "metadata": {
        "id": "dwAxaWUr0GxQ",
        "colab": {
          "base_uri": "https://localhost:8080/"
        },
        "outputId": "24acb75e-cbeb-4ab9-9240-39c808bfa3fd"
      },
      "source": [
        "n_np"
      ],
      "execution_count": null,
      "outputs": [
        {
          "output_type": "execute_result",
          "data": {
            "text/plain": [
              "array([0, 2, 4, 6, 8])"
            ]
          },
          "metadata": {},
          "execution_count": 90
        }
      ]
    },
    {
      "cell_type": "code",
      "metadata": {
        "id": "IMHqRv4C0IEh",
        "colab": {
          "base_uri": "https://localhost:8080/"
        },
        "outputId": "ab4f66eb-6ac4-492b-8d65-7cc7905e3032"
      },
      "source": [
        "a = torch.Tensor([[1, 2, 3, 4]])\n",
        "b = torch.Tensor([[5, 6, 7, 8]])\n",
        "print(a.size(), b)"
      ],
      "execution_count": null,
      "outputs": [
        {
          "output_type": "stream",
          "name": "stdout",
          "text": [
            "torch.Size([1, 4]) tensor([[5., 6., 7., 8.]])\n"
          ]
        }
      ]
    },
    {
      "cell_type": "code",
      "metadata": {
        "id": "qXGcigNr0kC_",
        "colab": {
          "base_uri": "https://localhost:8080/"
        },
        "outputId": "929d1997-7802-4687-c3c1-346a8e5a31ac"
      },
      "source": [
        "# Puedo concatenar dos tensores\n",
        "torch.cat((a, b), 0)"
      ],
      "execution_count": null,
      "outputs": [
        {
          "output_type": "execute_result",
          "data": {
            "text/plain": [
              "tensor([[1., 2., 3., 4.],\n",
              "        [5., 6., 7., 8.]])"
            ]
          },
          "metadata": {},
          "execution_count": 92
        }
      ]
    },
    {
      "cell_type": "code",
      "metadata": {
        "id": "kJORkIdw0oga",
        "colab": {
          "base_uri": "https://localhost:8080/"
        },
        "outputId": "b532e13a-edd2-4985-e38e-59135b4a7bfe"
      },
      "source": [
        "torch.cat((a, b), 1)"
      ],
      "execution_count": null,
      "outputs": [
        {
          "output_type": "execute_result",
          "data": {
            "text/plain": [
              "tensor([[1., 2., 3., 4., 5., 6., 7., 8.]])"
            ]
          },
          "metadata": {},
          "execution_count": 93
        }
      ]
    },
    {
      "cell_type": "markdown",
      "metadata": {
        "id": "UpGfDYBl4uDo"
      },
      "source": [
        "# Automatic differentiation\n",
        "\n",
        "Una de las características más potentes de este framework es que calcula las derivadas de las expresiones de manera automática. "
      ]
    },
    {
      "cell_type": "code",
      "metadata": {
        "id": "fkAbUMVm0sSA",
        "colab": {
          "base_uri": "https://localhost:8080/"
        },
        "outputId": "a212772b-2494-4f0c-8539-91a4b083581d"
      },
      "source": [
        "# Para esto debemos crear un tensor y especificar que queremos mantener las\n",
        "# derivadas de las expresiones en donde se use\n",
        "\n",
        "#Usamos el parámetro \"requires_grad=True\" en el constructor de un tensor\n",
        "x = torch.tensor([[1, 2],[3, 4]], dtype=torch.float32, requires_grad=True)\n",
        "print(x)"
      ],
      "execution_count": null,
      "outputs": [
        {
          "output_type": "stream",
          "name": "stdout",
          "text": [
            "tensor([[1., 2.],\n",
            "        [3., 4.]], requires_grad=True)\n"
          ]
        }
      ]
    },
    {
      "cell_type": "code",
      "metadata": {
        "id": "Q7zSoi104_LV",
        "colab": {
          "base_uri": "https://localhost:8080/"
        },
        "outputId": "effc1ee2-011b-49c8-f2fc-b96d89339d83"
      },
      "source": [
        "# Así que ahora cuando apliquemos una operación sobre el tensor, Pytorch \n",
        "# registrará las operaciones y sus derivadas\n",
        "\n",
        "y = x - 2\n",
        "print(y)\n",
        "\n",
        "#El tensor \"y\" tiene asociado un gradiente de una función (en este caso \n",
        "# la resta, por eso el nombre SubBackward, Sub es por substraction)"
      ],
      "execution_count": null,
      "outputs": [
        {
          "output_type": "stream",
          "name": "stdout",
          "text": [
            "tensor([[-1.,  0.],\n",
            "        [ 1.,  2.]], grad_fn=<SubBackward0>)\n"
          ]
        }
      ]
    },
    {
      "cell_type": "code",
      "metadata": {
        "id": "8X0AvW765Gxr",
        "colab": {
          "base_uri": "https://localhost:8080/"
        },
        "outputId": "8fbfe45d-07f9-4b41-9eec-0cce8c8c4925"
      },
      "source": [
        "print(y.grad_fn)"
      ],
      "execution_count": null,
      "outputs": [
        {
          "output_type": "stream",
          "name": "stdout",
          "text": [
            "<SubBackward0 object at 0x7fa01c32ae10>\n"
          ]
        }
      ]
    },
    {
      "cell_type": "code",
      "metadata": {
        "id": "Odxhy83U5Mvq",
        "colab": {
          "base_uri": "https://localhost:8080/"
        },
        "outputId": "a97eded8-7c97-43eb-d428-223613ff565f"
      },
      "source": [
        "# El tensor \"x\" no tiene ninguna función de gradiente\n",
        "print(x.grad_fn)"
      ],
      "execution_count": null,
      "outputs": [
        {
          "output_type": "stream",
          "name": "stdout",
          "text": [
            "None\n"
          ]
        }
      ]
    },
    {
      "cell_type": "code",
      "metadata": {
        "id": "CqJFfYGM5QLq",
        "colab": {
          "base_uri": "https://localhost:8080/"
        },
        "outputId": "ab66f7c0-bef9-42b3-967b-187499b7f4c9"
      },
      "source": [
        "# Uno puede conocer la traza de gradientes de una expresión con \"next_functions\"\n",
        "# En este caso, despues de \"y\" no hay más funciones, por lo que \"AccumulatedGrad\"\n",
        "# es el valor por defecto cuando se llegó al fin.\n",
        "y.grad_fn.next_functions[0][0]"
      ],
      "execution_count": null,
      "outputs": [
        {
          "output_type": "execute_result",
          "data": {
            "text/plain": [
              "<AccumulateGrad at 0x7fa01c11bbd0>"
            ]
          },
          "metadata": {},
          "execution_count": 130
        }
      ]
    },
    {
      "cell_type": "code",
      "metadata": {
        "id": "ewGlTFXd5UVy",
        "colab": {
          "base_uri": "https://localhost:8080/"
        },
        "outputId": "d9b73d42-71bb-4f14-de12-e64ef8832d65"
      },
      "source": [
        "# Fíjate que la variable sobre la cual está   la última función es justamente \n",
        "# el tensor \"x\"\n",
        "y.grad_fn.next_functions[0][0].variable"
      ],
      "execution_count": null,
      "outputs": [
        {
          "output_type": "execute_result",
          "data": {
            "text/plain": [
              "tensor([[1., 2.],\n",
              "        [3., 4.]], requires_grad=True)"
            ]
          },
          "metadata": {},
          "execution_count": 131
        }
      ]
    },
    {
      "cell_type": "code",
      "metadata": {
        "id": "Qmareag55iK7",
        "colab": {
          "base_uri": "https://localhost:8080/"
        },
        "outputId": "fde8869d-f6c9-4a4d-a8b3-633369276d44"
      },
      "source": [
        "# Ejecutemos algunas operaciones más\n",
        "\n",
        "z = y*y*3\n",
        "a = z.mean()\n",
        "\n",
        "print(z)\n",
        "print(a)\n",
        "\n",
        "# La función del tensor \"z\" es la multiplicación y la función del tensor \"a\"\n",
        "# es la función \"mean\""
      ],
      "execution_count": null,
      "outputs": [
        {
          "output_type": "stream",
          "name": "stdout",
          "text": [
            "tensor([[ 3.,  0.],\n",
            "        [ 3., 12.]], grad_fn=<MulBackward0>)\n",
            "tensor(4.5000, grad_fn=<MeanBackward0>)\n"
          ]
        }
      ]
    },
    {
      "cell_type": "code",
      "metadata": {
        "id": "Lv_6w1IJ54rx",
        "colab": {
          "base_uri": "https://localhost:8080/"
        },
        "outputId": "bb3d0df7-ebe9-4aa0-e029-f4d31a23dce2"
      },
      "source": [
        "#Instalamos torchviz para hacer algunas visualizaciones\n",
        "\n",
        "!pip install torchviz\n",
        "\n",
        "from torchviz import make_dot"
      ],
      "execution_count": null,
      "outputs": [
        {
          "output_type": "stream",
          "name": "stdout",
          "text": [
            "Requirement already satisfied: torchviz in /usr/local/lib/python3.7/dist-packages (0.0.2)\n",
            "Requirement already satisfied: torch in /usr/local/lib/python3.7/dist-packages (from torchviz) (1.9.0+cu102)\n",
            "Requirement already satisfied: graphviz in /usr/local/lib/python3.7/dist-packages (from torchviz) (0.10.1)\n",
            "Requirement already satisfied: typing-extensions in /usr/local/lib/python3.7/dist-packages (from torch->torchviz) (3.7.4.3)\n"
          ]
        }
      ]
    },
    {
      "cell_type": "code",
      "metadata": {
        "id": "8elE8xl2FCzj",
        "colab": {
          "base_uri": "https://localhost:8080/",
          "height": 528
        },
        "outputId": "b6204109-878e-456f-8eb6-c1e7634de254"
      },
      "source": [
        "# Dibujemos el grafo de computación del tensor \"a\"\n",
        "make_dot(a)\n",
        "\n",
        "# Nos muestra toda la secuencia de operaciones sobre el tensor inicial"
      ],
      "execution_count": null,
      "outputs": [
        {
          "output_type": "execute_result",
          "data": {
            "text/plain": [
              "<graphviz.dot.Digraph at 0x7fa01c368250>"
            ],
            "image/svg+xml": "<?xml version=\"1.0\" encoding=\"UTF-8\" standalone=\"no\"?>\n<!DOCTYPE svg PUBLIC \"-//W3C//DTD SVG 1.1//EN\"\n \"http://www.w3.org/Graphics/SVG/1.1/DTD/svg11.dtd\">\n<!-- Generated by graphviz version 2.40.1 (20161225.0304)\n -->\n<!-- Title: %3 Pages: 1 -->\n<svg width=\"109pt\" height=\"381pt\"\n viewBox=\"0.00 0.00 109.00 381.00\" xmlns=\"http://www.w3.org/2000/svg\" xmlns:xlink=\"http://www.w3.org/1999/xlink\">\n<g id=\"graph0\" class=\"graph\" transform=\"scale(1 1) rotate(0) translate(4 377)\">\n<title>%3</title>\n<polygon fill=\"#ffffff\" stroke=\"transparent\" points=\"-4,4 -4,-377 105,-377 105,4 -4,4\"/>\n<!-- 140325624267712 -->\n<g id=\"node1\" class=\"node\">\n<title>140325624267712</title>\n<polygon fill=\"#caff70\" stroke=\"#000000\" points=\"77.5,-31 23.5,-31 23.5,0 77.5,0 77.5,-31\"/>\n<text text-anchor=\"middle\" x=\"50.5\" y=\"-7\" font-family=\"monospace\" font-size=\"10.00\" fill=\"#000000\"> ()</text>\n</g>\n<!-- 140325643799120 -->\n<g id=\"node2\" class=\"node\">\n<title>140325643799120</title>\n<polygon fill=\"#d3d3d3\" stroke=\"#000000\" points=\"98,-86 3,-86 3,-67 98,-67 98,-86\"/>\n<text text-anchor=\"middle\" x=\"50.5\" y=\"-74\" font-family=\"monospace\" font-size=\"10.00\" fill=\"#000000\">MeanBackward0</text>\n</g>\n<!-- 140325643799120&#45;&gt;140325624267712 -->\n<g id=\"edge7\" class=\"edge\">\n<title>140325643799120&#45;&gt;140325624267712</title>\n<path fill=\"none\" stroke=\"#000000\" d=\"M50.5,-66.9688C50.5,-60.1289 50.5,-50.5621 50.5,-41.5298\"/>\n<polygon fill=\"#000000\" stroke=\"#000000\" points=\"54.0001,-41.3678 50.5,-31.3678 47.0001,-41.3678 54.0001,-41.3678\"/>\n</g>\n<!-- 140325644828816 -->\n<g id=\"node3\" class=\"node\">\n<title>140325644828816</title>\n<polygon fill=\"#d3d3d3\" stroke=\"#000000\" points=\"95,-141 6,-141 6,-122 95,-122 95,-141\"/>\n<text text-anchor=\"middle\" x=\"50.5\" y=\"-129\" font-family=\"monospace\" font-size=\"10.00\" fill=\"#000000\">MulBackward0</text>\n</g>\n<!-- 140325644828816&#45;&gt;140325643799120 -->\n<g id=\"edge1\" class=\"edge\">\n<title>140325644828816&#45;&gt;140325643799120</title>\n<path fill=\"none\" stroke=\"#000000\" d=\"M50.5,-121.9197C50.5,-114.9083 50.5,-105.1442 50.5,-96.4652\"/>\n<polygon fill=\"#000000\" stroke=\"#000000\" points=\"54.0001,-96.3408 50.5,-86.3408 47.0001,-96.3409 54.0001,-96.3408\"/>\n</g>\n<!-- 140325644830544 -->\n<g id=\"node4\" class=\"node\">\n<title>140325644830544</title>\n<polygon fill=\"#d3d3d3\" stroke=\"#000000\" points=\"95,-196 6,-196 6,-177 95,-177 95,-196\"/>\n<text text-anchor=\"middle\" x=\"50.5\" y=\"-184\" font-family=\"monospace\" font-size=\"10.00\" fill=\"#000000\">MulBackward0</text>\n</g>\n<!-- 140325644830544&#45;&gt;140325644828816 -->\n<g id=\"edge2\" class=\"edge\">\n<title>140325644830544&#45;&gt;140325644828816</title>\n<path fill=\"none\" stroke=\"#000000\" d=\"M50.5,-176.9197C50.5,-169.9083 50.5,-160.1442 50.5,-151.4652\"/>\n<polygon fill=\"#000000\" stroke=\"#000000\" points=\"54.0001,-151.3408 50.5,-141.3408 47.0001,-151.3409 54.0001,-151.3408\"/>\n</g>\n<!-- 140325644830352 -->\n<g id=\"node5\" class=\"node\">\n<title>140325644830352</title>\n<polygon fill=\"#d3d3d3\" stroke=\"#000000\" points=\"95,-251 6,-251 6,-232 95,-232 95,-251\"/>\n<text text-anchor=\"middle\" x=\"50.5\" y=\"-239\" font-family=\"monospace\" font-size=\"10.00\" fill=\"#000000\">SubBackward0</text>\n</g>\n<!-- 140325644830352&#45;&gt;140325644830544 -->\n<g id=\"edge3\" class=\"edge\">\n<title>140325644830352&#45;&gt;140325644830544</title>\n<path fill=\"none\" stroke=\"#000000\" d=\"M45.2332,-231.9197C43.8546,-224.9083 43.4371,-215.1442 43.9804,-206.4652\"/>\n<polygon fill=\"#000000\" stroke=\"#000000\" points=\"47.479,-206.6838 45.1826,-196.3408 40.5278,-205.8583 47.479,-206.6838\"/>\n</g>\n<!-- 140325644830352&#45;&gt;140325644830544 -->\n<g id=\"edge6\" class=\"edge\">\n<title>140325644830352&#45;&gt;140325644830544</title>\n<path fill=\"none\" stroke=\"#000000\" d=\"M55.7668,-231.9197C57.1454,-224.9083 57.5629,-215.1442 57.0196,-206.4652\"/>\n<polygon fill=\"#000000\" stroke=\"#000000\" points=\"60.4722,-205.8583 55.8174,-196.3408 53.521,-206.6838 60.4722,-205.8583\"/>\n</g>\n<!-- 140325642419152 -->\n<g id=\"node6\" class=\"node\">\n<title>140325642419152</title>\n<polygon fill=\"#d3d3d3\" stroke=\"#000000\" points=\"101,-306 0,-306 0,-287 101,-287 101,-306\"/>\n<text text-anchor=\"middle\" x=\"50.5\" y=\"-294\" font-family=\"monospace\" font-size=\"10.00\" fill=\"#000000\">AccumulateGrad</text>\n</g>\n<!-- 140325642419152&#45;&gt;140325644830352 -->\n<g id=\"edge4\" class=\"edge\">\n<title>140325642419152&#45;&gt;140325644830352</title>\n<path fill=\"none\" stroke=\"#000000\" d=\"M50.5,-286.9197C50.5,-279.9083 50.5,-270.1442 50.5,-261.4652\"/>\n<polygon fill=\"#000000\" stroke=\"#000000\" points=\"54.0001,-261.3408 50.5,-251.3408 47.0001,-261.3409 54.0001,-261.3408\"/>\n</g>\n<!-- 140327784705952 -->\n<g id=\"node7\" class=\"node\">\n<title>140327784705952</title>\n<polygon fill=\"#add8e6\" stroke=\"#000000\" points=\"80,-373 21,-373 21,-342 80,-342 80,-373\"/>\n<text text-anchor=\"middle\" x=\"50.5\" y=\"-349\" font-family=\"monospace\" font-size=\"10.00\" fill=\"#000000\"> (2, 2)</text>\n</g>\n<!-- 140327784705952&#45;&gt;140325642419152 -->\n<g id=\"edge5\" class=\"edge\">\n<title>140327784705952&#45;&gt;140325642419152</title>\n<path fill=\"none\" stroke=\"#000000\" d=\"M50.5,-341.791C50.5,-334.0249 50.5,-324.5706 50.5,-316.3129\"/>\n<polygon fill=\"#000000\" stroke=\"#000000\" points=\"54.0001,-316.0647 50.5,-306.0648 47.0001,-316.0648 54.0001,-316.0647\"/>\n</g>\n</g>\n</svg>\n"
          },
          "metadata": {},
          "execution_count": 134
        }
      ]
    },
    {
      "cell_type": "code",
      "metadata": {
        "id": "Rf8DChjbFVM6"
      },
      "source": [
        "# Calculamos la derivada de \"a\" con respecto a \"x\", evaluada por defecto sobre el tensor\n",
        "# con valor 1.0\n",
        "\n",
        "a.backward() # Equivalent to out.backward(torch.tensor([1.0]))\n",
        "\n",
        "# x.grad retorna el tensor resultado de evaluar la derivada de \"a\" con \n",
        "# respecto a \"x\" en el valor 1.0"
      ],
      "execution_count": null,
      "outputs": []
    },
    {
      "cell_type": "code",
      "metadata": {
        "id": "r1JW2Ul3Fj6x",
        "colab": {
          "base_uri": "https://localhost:8080/"
        },
        "outputId": "2e8b9f51-acc6-4e0c-b9f3-454daae395f0"
      },
      "source": [
        "print(x.grad)"
      ],
      "execution_count": null,
      "outputs": [
        {
          "output_type": "stream",
          "name": "stdout",
          "text": [
            "tensor([[-1.5000,  0.0000],\n",
            "        [ 1.5000,  3.0000]])\n"
          ]
        }
      ]
    },
    {
      "cell_type": "code",
      "metadata": {
        "id": "KwPSntBoshof"
      },
      "source": [
        "  "
      ],
      "execution_count": null,
      "outputs": []
    }
  ]
}