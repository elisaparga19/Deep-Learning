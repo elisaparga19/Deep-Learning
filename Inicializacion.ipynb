{
  "nbformat": 4,
  "nbformat_minor": 0,
  "metadata": {
    "colab": {
      "provenance": [],
      "collapsed_sections": []
    },
    "kernelspec": {
      "name": "python3",
      "display_name": "Python 3"
    },
    "accelerator": "GPU"
  },
  "cells": [
    {
      "cell_type": "code",
      "metadata": {
        "id": "yr2uMIEbftg5"
      },
      "source": [
        "import torch"
      ],
      "execution_count": null,
      "outputs": []
    },
    {
      "cell_type": "code",
      "metadata": {
        "id": "5pJRVGj3f8u7",
        "colab": {
          "base_uri": "https://localhost:8080/"
        },
        "outputId": "9bff2cfe-14c2-4f18-fe17-550866406269"
      },
      "source": [
        "#Sea x una entrada de dimensión 512 con distribución N(0,1)\n",
        "# Media: 0\n",
        "# Varianza: 1\n",
        "\n",
        "x = torch.randn(512)\n",
        "\n",
        "#Simular la pasada forward de la entrada con 100 capas lineales\n",
        "#Las capas tienen 512 neuronas cada una\n",
        "\n",
        "for i in range(100): \n",
        "    a = torch.randn(512,512)\n",
        "    x = a @ x\n",
        "x.mean(), x.std()\n",
        "\n",
        "#Media y desviación del resultado explotan"
      ],
      "execution_count": null,
      "outputs": [
        {
          "output_type": "execute_result",
          "data": {
            "text/plain": [
              "(tensor(nan), tensor(nan))"
            ]
          },
          "metadata": {},
          "execution_count": 3
        }
      ]
    },
    {
      "cell_type": "code",
      "metadata": {
        "id": "aiLqD4PegAjx",
        "colab": {
          "base_uri": "https://localhost:8080/"
        },
        "outputId": "ad086769-1462-4040-bafa-65a6d6d3982b"
      },
      "source": [
        "# En qué capa sucede la explosión?\n",
        "\n",
        "x = torch.randn(512)\n",
        "\n",
        "for i in range(100):\n",
        "    a = torch.randn(512,512)\n",
        "    x = a @ x\n",
        "    if torch.isnan(x.std()): break\n",
        "\n",
        "print(i)\n",
        "\n",
        "#Entrada es pequeña, la única razón para la explosión es que los pesos son muy grandes"
      ],
      "execution_count": null,
      "outputs": [
        {
          "output_type": "stream",
          "name": "stdout",
          "text": [
            "27\n"
          ]
        }
      ]
    },
    {
      "cell_type": "code",
      "metadata": {
        "id": "BE14vqoigD_R",
        "colab": {
          "base_uri": "https://localhost:8080/"
        },
        "outputId": "c9ee961f-1162-4914-d9a0-8e83e027d23f"
      },
      "source": [
        "#Podemos vernos tentados a reducir los pesos para evitar la explosión\n",
        "# Escalamos los pesos por algún factor\n",
        "\n",
        "x = torch.randn(512)\n",
        "\n",
        "for i in range(100): \n",
        "    a = torch.randn(512,512) * 0.01\n",
        "    x = a @ x\n",
        "x.mean(), x.std()\n",
        "\n",
        "# Ahora la media y la desviación se fueron a cero"
      ],
      "execution_count": null,
      "outputs": [
        {
          "output_type": "execute_result",
          "data": {
            "text/plain": [
              "(tensor(0.), tensor(0.))"
            ]
          },
          "metadata": {},
          "execution_count": 5
        }
      ]
    },
    {
      "cell_type": "code",
      "metadata": {
        "id": "LUC7c8FDgKjh",
        "colab": {
          "base_uri": "https://localhost:8080/"
        },
        "outputId": "53d9ee21-874c-4b9e-e7ac-f9a70aebd4a2"
      },
      "source": [
        "#Cuál es el promedio y desviación estándar de multiplicar un vector de 512 dimensiones y una matriz 512x512?\n",
        "# Ambos en N(0,1)\n",
        "\n",
        "#Ejecutamos 10000 multiplicaciones, y promediamos los resultados\n",
        "\n",
        "import math\n",
        "\n",
        "mean, var = 0.,0.\n",
        "for i in range(10000):\n",
        "    x = torch.randn(512)\n",
        "    a = torch.randn(512,512)\n",
        "    y = a @ x\n",
        "    mean += y.mean().item()\n",
        "    var += y.pow(2).mean().item()\n",
        "mean/10000, math.sqrt(var/10000)"
      ],
      "execution_count": null,
      "outputs": [
        {
          "output_type": "execute_result",
          "data": {
            "text/plain": [
              "(-0.0021326902262866496, 22.634550174787883)"
            ]
          },
          "metadata": {},
          "execution_count": 6
        }
      ]
    },
    {
      "cell_type": "code",
      "metadata": {
        "id": "jFH1y85WgVU4",
        "colab": {
          "base_uri": "https://localhost:8080/"
        },
        "outputId": "8e583f96-01d2-46fc-fc53-ac3cf0201fb7"
      },
      "source": [
        "#La desviación es muy similar a la raiz cuadrada de la dimension del vector de entrada\n",
        "\n",
        "math.sqrt(512)"
      ],
      "execution_count": null,
      "outputs": [
        {
          "output_type": "execute_result",
          "data": {
            "text/plain": [
              "22.627416997969522"
            ]
          },
          "metadata": {},
          "execution_count": 7
        }
      ]
    },
    {
      "cell_type": "code",
      "metadata": {
        "id": "t-GC3Tw8goRb",
        "colab": {
          "base_uri": "https://localhost:8080/"
        },
        "outputId": "c2623ada-c292-4c93-976e-a5409902956e"
      },
      "source": [
        "#El producto de dos números en distribucipón N(0,1) es siempre un número en la misma distribución\n",
        "\n",
        "mean, var = 0.,0.\n",
        "for i in range(10000):\n",
        "    x = torch.randn(1)\n",
        "    a = torch.randn(1)\n",
        "    y = a*x\n",
        "    mean += y.item()\n",
        "    var += y.pow(2).item()\n",
        "mean/10000, math.sqrt(var/10000)\n"
      ],
      "execution_count": null,
      "outputs": [
        {
          "output_type": "execute_result",
          "data": {
            "text/plain": [
              "(0.01635905926713216, 1.0183190374573503)"
            ]
          },
          "metadata": {},
          "execution_count": 8
        }
      ]
    },
    {
      "cell_type": "code",
      "metadata": {
        "id": "BKc_2u8agv7H",
        "colab": {
          "base_uri": "https://localhost:8080/"
        },
        "outputId": "b7f85558-d56f-4661-f36b-513b4588e349"
      },
      "source": [
        "#La varianza promedio debe estar en el orden de 1/512\n",
        "mean, var = 0.,0.\n",
        "for i in range(10000):\n",
        "    x = torch.randn(1)\n",
        "    a = torch.randn(1)*math.sqrt(1./512)\n",
        "    y = a*x\n",
        "    mean += y.item()\n",
        "    var += y.pow(2).item()\n",
        "mean/10000, var/10000"
      ],
      "execution_count": null,
      "outputs": [
        {
          "output_type": "execute_result",
          "data": {
            "text/plain": [
              "(0.0010965374116746916, 0.0019383795463332547)"
            ]
          },
          "metadata": {},
          "execution_count": 9
        }
      ]
    },
    {
      "cell_type": "code",
      "metadata": {
        "id": "PWCbW4LbC7dW"
      },
      "source": [
        "1/512"
      ],
      "execution_count": null,
      "outputs": []
    },
    {
      "cell_type": "code",
      "metadata": {
        "id": "Lu6by5wRgzPa"
      },
      "source": [
        "#Así que deberíamos usar sqrt(1/512) para escalar los pesos\n",
        "\n",
        "mean, var = 0.,0.\n",
        "for i in range(10000):\n",
        "    x = torch.randn(512)\n",
        "    a = torch.randn(512,512)*math.sqrt(1./512)\n",
        "    y = a @ x\n",
        "    mean += y.mean().item()\n",
        "    var += y.pow(2).mean().item()\n",
        "mean/10000, math.sqrt(var/10000)"
      ],
      "execution_count": null,
      "outputs": []
    },
    {
      "cell_type": "code",
      "metadata": {
        "id": "jgzWvKxyhA6P",
        "colab": {
          "base_uri": "https://localhost:8080/"
        },
        "outputId": "e3b2eb04-f5af-45db-fcd2-92d3d1a6c831"
      },
      "source": [
        "#Probemos en nuestra red neuronal simulada\n",
        "\n",
        "x = torch.randn(512)\n",
        "\n",
        "for i in range(100):\n",
        "    a = torch.randn(512,512) * math.sqrt(1./512)\n",
        "    x = a @ x\n",
        "x.mean(), x.std()\n",
        "\n",
        "#Las salidas no explotan ni se desvanecen"
      ],
      "execution_count": null,
      "outputs": [
        {
          "output_type": "execute_result",
          "data": {
            "text/plain": [
              "(tensor(0.0180), tensor(1.0045))"
            ]
          },
          "metadata": {},
          "execution_count": 10
        }
      ]
    },
    {
      "cell_type": "code",
      "metadata": {
        "id": "yOI_874HhQuu"
      },
      "source": [
        "#Hasta ahora no hemos utilizado funciones de activación.\n",
        "#Veamos que pasa si aplicamos una función de activación\n",
        "#TANH a nuestro modelo basico de red neuronal\n",
        "\n",
        "def tanh(x): return torch.tanh(x)"
      ],
      "execution_count": null,
      "outputs": []
    },
    {
      "cell_type": "code",
      "metadata": {
        "id": "e60Jv62FEEpM"
      },
      "source": [
        "x = torch.randn(512)\n",
        "\n",
        "for i in range(100): \n",
        "    a = torch.randn(512,512) * math.sqrt(1./512)\n",
        "    x = tanh(a @ x)\n",
        "x.mean(), x.std()"
      ],
      "execution_count": null,
      "outputs": []
    },
    {
      "cell_type": "code",
      "metadata": {
        "id": "Zt53e08kEH7o"
      },
      "source": [
        "x = torch.randn(512)\n",
        "\n",
        "for i in range(100): \n",
        "    a = torch.Tensor(512,512).uniform_(-1, 1) * math.sqrt(1./512)\n",
        "    x = tanh(a @ x)\n",
        "x.mean(), x.std()"
      ],
      "execution_count": null,
      "outputs": []
    },
    {
      "cell_type": "code",
      "metadata": {
        "id": "unBp6GCeEoTP"
      },
      "source": [
        "#Glorot y Bengio propusieron una nueva inicialización\n",
        "def xavier(m,h): \n",
        "    return torch.Tensor(m, h).uniform_(-1, 1)*math.sqrt(6./(m+h))\n",
        "  \n",
        "x = torch.randn(512)\n",
        "\n",
        "for i in range(100):\n",
        "    a = xavier(512, 512)\n",
        "    x = tanh(a @ x)\n",
        "x.mean(), x.std()"
      ],
      "execution_count": null,
      "outputs": []
    },
    {
      "cell_type": "code",
      "metadata": {
        "id": "tttsh6KTFWBH"
      },
      "source": [
        "#Pero que pasa cuando la función de activación es RELU?\n",
        "def relu(x): return x.clamp_min(0.)"
      ],
      "execution_count": null,
      "outputs": []
    },
    {
      "cell_type": "code",
      "metadata": {
        "id": "pAziFtMWGYJB"
      },
      "source": [
        "mean, var = 0.,0.\n",
        "for i in range(10000):\n",
        "    x = torch.randn(512)\n",
        "    a = torch.randn(512,512)\n",
        "    y = relu(a @ x)\n",
        "    mean += y.mean().item()\n",
        "    var += y.pow(2).mean().item()\n",
        "mean/10000, math.sqrt(var/10000)"
      ],
      "execution_count": null,
      "outputs": []
    },
    {
      "cell_type": "code",
      "metadata": {
        "id": "2sk9AFqPGau0",
        "colab": {
          "base_uri": "https://localhost:8080/"
        },
        "outputId": "21fc8b94-3cbf-4b0e-f7c4-8f3831ac0f7a"
      },
      "source": [
        "#Desviación estándar es cernaca a sqrt(512)/sqrt(2)\n",
        "math.sqrt(512/2)"
      ],
      "execution_count": null,
      "outputs": [
        {
          "output_type": "execute_result",
          "data": {
            "text/plain": [
              "16.0"
            ]
          },
          "metadata": {},
          "execution_count": 20
        }
      ]
    },
    {
      "cell_type": "code",
      "metadata": {
        "id": "WU_S41AaHlEo",
        "colab": {
          "base_uri": "https://localhost:8080/"
        },
        "outputId": "8ea1c27c-d841-4171-ed24-33e9b9314ca6"
      },
      "source": [
        "mean, var = 0.,0.\n",
        "for i in range(10000):\n",
        "    x = torch.randn(512)\n",
        "    a = torch.randn(512,512)*math.sqrt(2/512)\n",
        "    y = relu(a @ x)\n",
        "    mean += y.mean().item()\n",
        "    var += y.pow(2).mean().item()\n",
        "mean/10000, math.sqrt(var/10000)"
      ],
      "execution_count": null,
      "outputs": [
        {
          "output_type": "execute_result",
          "data": {
            "text/plain": [
              "(0.5645898705810308, 1.001173733909331)"
            ]
          },
          "metadata": {},
          "execution_count": 21
        }
      ]
    },
    {
      "cell_type": "code",
      "metadata": {
        "id": "BXWs2xEaHwP-",
        "colab": {
          "base_uri": "https://localhost:8080/"
        },
        "outputId": "0129a1af-7f10-43c1-e412-70bf1ee622ae"
      },
      "source": [
        "def kaiming(m,h):\n",
        "  return torch.randn(m,h)*math.sqrt(2./m)\n",
        "\n",
        "x = torch.randn(512)\n",
        "\n",
        "for i in range(100):\n",
        "  a = kaiming(512, 512)\n",
        "  x = relu(a @ x)\n",
        "\n",
        "x.mean(), x.std()"
      ],
      "execution_count": null,
      "outputs": [
        {
          "output_type": "execute_result",
          "data": {
            "text/plain": [
              "(tensor(0.7353), tensor(1.0442))"
            ]
          },
          "metadata": {},
          "execution_count": 22
        }
      ]
    },
    {
      "cell_type": "code",
      "metadata": {
        "id": "lUdXELOeIsNl",
        "colab": {
          "base_uri": "https://localhost:8080/"
        },
        "outputId": "b5efaa04-d5a7-4cd8-a798-00a270375c84"
      },
      "source": [
        "#Xavier con RELU?\n",
        "\n",
        "x = torch.randn(512)\n",
        "\n",
        "for i in range(100):\n",
        "  a = xavier(512, 512)\n",
        "  x = relu(a @ x)\n",
        "\n",
        "x.mean(), x.std()"
      ],
      "execution_count": null,
      "outputs": [
        {
          "output_type": "execute_result",
          "data": {
            "text/plain": [
              "(tensor(4.6876e-16), tensor(6.7885e-16))"
            ]
          },
          "metadata": {},
          "execution_count": 23
        }
      ]
    },
    {
      "cell_type": "code",
      "metadata": {
        "id": "M3OCG_47JACG"
      },
      "source": [],
      "execution_count": null,
      "outputs": []
    }
  ]
}